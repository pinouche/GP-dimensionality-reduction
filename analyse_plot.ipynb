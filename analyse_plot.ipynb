{
 "cells": [
  {
   "cell_type": "code",
   "execution_count": 76,
   "metadata": {},
   "outputs": [],
   "source": [
    "import numpy as np \n",
    "import pandas as pd\n",
    "import matplotlib\n",
    "import matplotlib.pyplot as plt\n",
    "from copy import deepcopy\n",
    "import pickle\n",
    "import multiprocessing\n",
    "import seaborn as sns\n",
    "import keras\n",
    "import random\n",
    "import arff\n",
    "\n",
    "from sklearn import datasets\n",
    "from sklearn.model_selection import KFold, StratifiedKFold\n",
    "from sklearn.ensemble import RandomForestClassifier\n",
    "from sklearn.metrics import accuracy_score\n",
    "from sklearn.metrics.pairwise import cosine_similarity\n",
    "from sklearn.decomposition import PCA\n",
    "from sklearn.preprocessing import StandardScaler\n",
    "from sklearn.preprocessing import scale\n",
    "from sklearn.metrics import mean_absolute_error\n",
    "from sklearn.metrics import mean_squared_error"
   ]
  },
  {
   "cell_type": "markdown",
   "metadata": {},
   "source": [
    "# load data"
   ]
  },
  {
   "cell_type": "code",
   "execution_count": 39,
   "metadata": {},
   "outputs": [],
   "source": [
    "def load_winequality_dataset():\n",
    "    path_red_wine = \"./wine_quality/winequality-red.csv\"\n",
    "    path_white_wine = \"./wine_quality/winequality-white.csv\"\n",
    "    \n",
    "    data_red = pd.read_csv(path_red_wine, delimiter=\";\")\n",
    "    data_white = pd.read_csv(path_white_wine, delimiter=\";\")\n",
    "    \n",
    "    data = np.vstack((data_red, data_white))\n",
    "    data_x, data_y = data[:, :-1], data[:,-1]\n",
    "    \n",
    "    return data_x, data_y\n",
    "\n",
    "\n",
    "def load_credit_dataset():\n",
    "\n",
    "    path = \"./credit/credit.data\"\n",
    "\n",
    "    data = np.array(pd.read_csv(path, header=None, delimiter=\",\"))\n",
    "\n",
    "    data_list = []\n",
    "\n",
    "    for index in range(data.shape[0]):\n",
    "        row = [float(value) for value in data[index][0].split(\" \") if value.isnumeric()]\n",
    "        data_list.append(row)\n",
    "\n",
    "    data_list = np.array(data_list)\n",
    "    \n",
    "    data_x = data_list[:, :-1]\n",
    "    data_y = data_list[:, -1] -1\n",
    "    \n",
    "    return data_x, data_y\n",
    "\n",
    "\n",
    "# segmentation dataset\n",
    "def load_segmentation_dataset():\n",
    "    path_train = \"./segmentation/segmentation.data\"\n",
    "    path_test = \"./segmentation/segmentation.test\"\n",
    "\n",
    "    data_train = np.array(pd.read_csv(path_train, header=None, delimiter=\",\"))\n",
    "    data_test = np.array(pd.read_csv(path_test, header=None, delimiter=\",\"))\n",
    "\n",
    "    data = np.vstack((data_train, data_test))\n",
    "    data_y, data_x = data[:, 0], data[:, 1:]\n",
    "\n",
    "    classes = np.unique(data_y)\n",
    "    dic_str_to_int = dict(zip(classes, np.arange(0, len(classes), 1)))\n",
    "    data_y = [dic_str_to_int[string] for string in data_y]\n",
    "\n",
    "    return data_x, np.array(data_y)\n",
    "\n",
    "\n",
    "def load_observatory_dataset():\n",
    "    path = \"./observatory/observatory.data\"\n",
    "    \n",
    "    data = np.array(pd.read_csv(path_train, delimiter=\",\"))\n",
    "    data_y, data_x = data[:, -1], data[:, :-1]\n",
    "\n",
    "    classes = np.unique(data_y)\n",
    "    dic_str_to_int = dict(zip(classes, np.arange(0, len(classes), 1)))\n",
    "    data_y = [dic_str_to_int[string] for string in data_y]\n",
    "    \n",
    "    return data_x, np.array(data_y)\n",
    "\n",
    "\n",
    "def load_data(dataset):\n",
    "    if dataset == \"segmentation\":\n",
    "        data_x, data_y = load_segmentation_dataset()\n",
    "\n",
    "    elif dataset == \"credit\":\n",
    "        data_x, data_y = load_credit_dataset()\n",
    "        \n",
    "    elif dataset == \"winequality\":\n",
    "        data_x, data_y = load_winequality_dataset()\n",
    "        \n",
    "    elif dataset == \"observatory\":\n",
    "        data_x, data_y = load_observatory_dataset()\n",
    "\n",
    "    return data_x, data_y\n"
   ]
  },
  {
   "cell_type": "code",
   "execution_count": null,
   "metadata": {},
   "outputs": [],
   "source": []
  },
  {
   "cell_type": "code",
   "execution_count": null,
   "metadata": {},
   "outputs": [],
   "source": []
  },
  {
   "cell_type": "code",
   "execution_count": null,
   "metadata": {},
   "outputs": [],
   "source": []
  },
  {
   "cell_type": "markdown",
   "metadata": {},
   "source": [
    "# aux functions"
   ]
  },
  {
   "cell_type": "code",
   "execution_count": 24,
   "metadata": {},
   "outputs": [],
   "source": [
    "def k_fold_valifation_accuracy_rf(data_x, data_y, seed, num_fold=10):\n",
    "    \n",
    "    accuracy_list = []\n",
    "    kf = KFold(n_splits=10, shuffle=True, random_state=seed)\n",
    "    for train_indices, val_indices in kf.split(data_x):\n",
    "\n",
    "        x_train, y_train = data_x[train_indices], data_y[train_indices]\n",
    "        x_val, y_val = data_x[val_indices], data_y[val_indices]\n",
    "\n",
    "        scaler = StandardScaler()\n",
    "        scaler = scaler.fit(x_train)\n",
    "        x_train = scaler.transform(x_train)\n",
    "        x_val = scaler.transform(x_val)\n",
    "\n",
    "        classifier = RandomForestClassifier()\n",
    "        classifier.fit(x_train, y_train)\n",
    "        predictions = classifier.predict(x_val)\n",
    "        \n",
    "        accuracy = accuracy_score(y_val, predictions)\n",
    "        accuracy_list.append(accuracy)\n",
    "        \n",
    "    return np.mean(accuracy_list), np.std(accuracy_list)\n",
    "    "
   ]
  },
  {
   "cell_type": "code",
   "execution_count": 25,
   "metadata": {},
   "outputs": [],
   "source": [
    "def shuffle_data(x_data, y_data, seed):\n",
    "    np.random.seed(seed)\n",
    "    shuffle_list = np.arange(x_data.shape[0])\n",
    "    np.random.shuffle(shuffle_list)\n",
    "    x_data = x_data[shuffle_list]\n",
    "    y_data = y_data[shuffle_list]\n",
    "\n",
    "    return x_data, y_data"
   ]
  },
  {
   "cell_type": "markdown",
   "metadata": {},
   "source": [
    "# plots for 10 runs"
   ]
  },
  {
   "cell_type": "code",
   "execution_count": 55,
   "metadata": {},
   "outputs": [],
   "source": [
    "dataset = \"segmentation\"\n",
    "method = \"nn\""
   ]
  },
  {
   "cell_type": "code",
   "execution_count": 103,
   "metadata": {},
   "outputs": [
    {
     "name": "stdout",
     "output_type": "stream",
     "text": [
      "2 not_shared_phi\n",
      "2 shared_phi\n",
      "2 not_shared_len_sqrt\n",
      "2 shared_len_sqrt\n",
      "2 vanilla\n",
      "3 not_shared_phi\n",
      "3 shared_phi\n",
      "3 not_shared_len_sqrt\n",
      "3 shared_len_sqrt\n",
      "3 vanilla\n",
      "4 not_shared_phi\n",
      "4 shared_phi\n",
      "4 not_shared_len_sqrt\n",
      "4 shared_len_sqrt\n",
      "4 vanilla\n"
     ]
    }
   ],
   "source": [
    "list_data = []\n",
    "list_method_name = []\n",
    "\n",
    "nn_list_accuracy = []\n",
    "nn_list_name = []\n",
    "\n",
    "for num_latent_dimensions in [2, 3, 4]:\n",
    "    for gp_method in [\"not_shared_phi\", \"shared_phi\", \"not_shared_len_sqrt\", \"shared_len_sqrt\", \"vanilla\"]:\n",
    "    \n",
    "        path = \"gecco/\"+dataset+\"/\"+method+\"/\"\n",
    "        file_name = path + \"results_\" + dataset + \"_\" + method + \"_\" + str(num_latent_dimensions)\n",
    "        file_name = file_name + \"_\" + gp_method\n",
    "\n",
    "        results = pickle.load(open(file_name+\".p\", \"rb\"))\n",
    "        print(num_latent_dimensions, gp_method)\n",
    "        \n",
    "        list_info = [[] for _ in range(len(results[0].keys()))]\n",
    "\n",
    "        for index in range(len(results)):\n",
    "\n",
    "            count = 0\n",
    "            for k in results[index].keys():\n",
    "                list_info[count].append(results[index][k])\n",
    "                count += 1\n",
    "\n",
    "        if gp_method == \"not_shared_phi\":\n",
    "            method_name = \"GP not shared\"\n",
    "            \n",
    "            nn_list_accuracy.append(list_info[1])\n",
    "            nn_list_name.append(\"AE teacher\")\n",
    "            \n",
    "        elif gp_method == \"shared_phi\":\n",
    "            method_name = \"GP shared\"\n",
    "        \n",
    "        elif gp_method == \"not_shared_len_sqrt\":\n",
    "            method_name = \"GP not shared (sqrt)\"\n",
    "            \n",
    "        elif gp_method == \"shared_len_sqrt\":\n",
    "            method_name = \"GP shared (sqrt)\"\n",
    "            \n",
    "        elif gp_method == \"vanilla\":\n",
    "            method_name = \"GP vanilla\"\n",
    "            \n",
    "        list_data.append(list_info[5])\n",
    "        list_method_name.append(method_name)\n",
    "\n",
    "count = 0\n",
    "for index in range(len(nn_list_accuracy)):\n",
    "    list_data.insert(count, nn_list_accuracy[index])\n",
    "    list_method_name.insert(count, nn_list_name[index])\n",
    "    \n",
    "    count += 6\n"
   ]
  },
  {
   "cell_type": "code",
   "execution_count": 104,
   "metadata": {},
   "outputs": [],
   "source": [
    "# get the PCA score to use as a baseline\n",
    "\n",
    "accuracy_pca_avg = []\n",
    "accuracy_original = []\n",
    "count = 0\n",
    "for num_latent_dimensions in [2, 3, 4]:\n",
    "    \n",
    "    accuracy_list_avg = []\n",
    "    accuracy_list_original = []\n",
    "    for run in range(10):\n",
    "        split_proportion = [0.5, 0.4, 0.1]\n",
    "        \n",
    "        data_x, data_y = load_data(dataset)\n",
    "        data_x, data_y = shuffle_data(data_x, data_y, run)\n",
    "        \n",
    "        train_data_x = data_x[:int(data_x.shape[0]*split_proportion[0])]\n",
    "        test_data_x = data_x[int(data_x.shape[0]*(1-split_proportion[2])):]\n",
    "        test_data_y = data_y[int(data_x.shape[0]*(1-split_proportion[2])):]\n",
    "\n",
    "        scaler = StandardScaler()\n",
    "        scaler = scaler.fit(train_data_x)\n",
    "        train_data_x = scaler.transform(train_data_x)\n",
    "        test_data_x_pca = scaler.transform(test_data_x)\n",
    "\n",
    "        est = PCA(n_components=num_latent_dimensions)\n",
    "        est.fit(train_data_x)\n",
    "        test_data_x_pca = est.transform(test_data_x_pca)\n",
    "\n",
    "        # pca\n",
    "        avg_acc, _ = k_fold_valifation_accuracy_rf(test_data_x_pca, test_data_y, run)\n",
    "        accuracy_list_avg.append(avg_acc)\n",
    "        \n",
    "        # original dataset\n",
    "        avg_acc, _ = k_fold_valifation_accuracy_rf(test_data_x, test_data_y, run)\n",
    "        accuracy_list_original.append(avg_acc)\n",
    "    \n",
    "    list_data.insert(count, accuracy_list_avg)\n",
    "    list_method_name.insert(count, \"PCA baseline\")\n",
    "    count += 7\n",
    " \n",
    "    accuracy_original.append(accuracy_list_original)"
   ]
  },
  {
   "cell_type": "code",
   "execution_count": 105,
   "metadata": {},
   "outputs": [],
   "source": [
    "list_data = [accuracy_original[0]] + list_data\n",
    "list_method_name = [\"Original features\"] + list_method_name\n",
    "\n",
    "df1 = pd.DataFrame([list_data[0]]+list_data[1:8], index=[list_method_name[0]]+list_method_name[1:8]).T.assign(k=2)\n",
    "df2 = pd.DataFrame([list_data[0]]+list_data[8:15], index=[list_method_name[0]]+list_method_name[8:15]).T.assign(k=3)\n",
    "df3 = pd.DataFrame([list_data[0]]+list_data[15:22], index=[list_method_name[0]]+list_method_name[15:22]).T.assign(k=4)"
   ]
  },
  {
   "cell_type": "code",
   "execution_count": 106,
   "metadata": {},
   "outputs": [
    {
     "data": {
      "text/plain": [
       "['Original features',\n",
       " 'PCA baseline',\n",
       " 'AE teacher',\n",
       " 'GP not shared',\n",
       " 'GP shared',\n",
       " 'GP not shared (sqrt)',\n",
       " 'GP shared (sqrt)',\n",
       " 'GP vanilla',\n",
       " 'PCA baseline',\n",
       " 'AE teacher',\n",
       " 'GP not shared',\n",
       " 'GP shared',\n",
       " 'GP not shared (sqrt)',\n",
       " 'GP shared (sqrt)',\n",
       " 'GP vanilla',\n",
       " 'PCA baseline',\n",
       " 'AE teacher',\n",
       " 'GP not shared',\n",
       " 'GP shared',\n",
       " 'GP not shared (sqrt)',\n",
       " 'GP shared (sqrt)',\n",
       " 'GP vanilla']"
      ]
     },
     "execution_count": 106,
     "metadata": {},
     "output_type": "execute_result"
    }
   ],
   "source": [
    "list_method_name"
   ]
  },
  {
   "cell_type": "code",
   "execution_count": 108,
   "metadata": {},
   "outputs": [
    {
     "name": "stderr",
     "output_type": "stream",
     "text": [
      "/home/thomas/.conda/envs/tf_env/lib/python3.7/site-packages/ipykernel_launcher.py:6: UserWarning: FixedFormatter should only be used together with FixedLocator\n",
      "  \n"
     ]
    },
    {
     "data": {
      "image/png": "[encoded data removed]",
      "text/plain": [
       "<Figure size 1440x720 with 1 Axes>"
      ]
     },
     "metadata": {},
     "output_type": "display_data"
    }
   ],
   "source": [
    "cdf = pd.concat([df1, df2, df3])                              \n",
    "mdf = pd.melt(cdf, id_vars=['k'], var_name=['Method'])\n",
    "\n",
    "sns.set_theme()\n",
    "plt.figure(figsize=(20,10))\n",
    "ax = sns.boxplot(x=\"k\", y=\"value\", hue=\"Method\", data=mdf)  \n",
    "ax.set_yticklabels(np.round(ax.get_yticks(), 2), fontsize=16)\n",
    "ax.set_xticklabels([2, 3, 4], fontsize=16)\n",
    "ax.set_ylabel(\"Accuracy\", fontsize=20)\n",
    "ax.set_xlabel(\"Number of latent dimensions\", fontsize=20)\n",
    "plt.setp(ax.get_legend().get_texts(), fontsize='16') # for legend text\n",
    "plt.setp(ax.get_legend().get_title(), fontsize='20') # for legend title\n",
    "plt.savefig(\"boxplot_\" + dataset + \".pdf\", dpi=600, bbox_inches = 'tight')\n",
    "plt.show()\n"
   ]
  },
  {
   "cell_type": "markdown",
   "metadata": {},
   "source": [
    "# fidelity (mse between the AE and the GP predictions)"
   ]
  },
  {
   "cell_type": "code",
   "execution_count": 35,
   "metadata": {},
   "outputs": [],
   "source": [
    "def get_output_multi_tree(individual, data_x):\n",
    "    \n",
    "    low_dim = []\n",
    "    \n",
    "    output = individual.GetOutput(data_x)\n",
    "    individual_output = np.empty(output.shape)\n",
    "    for i in range(individual.num_sup_functions):\n",
    "\n",
    "        scaled_output = individual.sup_functions[i].ls_a + individual.sup_functions[i].ls_b * output[:, i]\n",
    "        individual_output[:, i] = scaled_output\n",
    "\n",
    "    low_dim.append(individual_output)\n",
    "    \n",
    "    return np.array(low_dim)"
   ]
  },
  {
   "cell_type": "code",
   "execution_count": 36,
   "metadata": {},
   "outputs": [],
   "source": [
    "def get_output_single_tree(individual, data_x):\n",
    "\n",
    "    num_latent_dimensions = individual.shape[0]\n",
    "    low_dim = [[] for _ in range(num_latent_dimensions)]\n",
    "\n",
    "    for index in range(num_latent_dimensions):\n",
    "\n",
    "        dim_i_individual = individual[index]\n",
    "\n",
    "        output = dim_i_individual.GetOutput(data_x)\n",
    "        output = dim_i_individual.ls_a + dim_i_individual.ls_b * output\n",
    "\n",
    "        low_dim[index].append(output)\n",
    "\n",
    "    low_dim = np.array(low_dim)\n",
    "    \n",
    "    return np.transpose(low_dim, (1, 2, 0))"
   ]
  },
  {
   "cell_type": "code",
   "execution_count": 37,
   "metadata": {},
   "outputs": [],
   "source": [
    "def train_base_model(x_data, seed, low_dim=2):\n",
    "    scaler = StandardScaler()\n",
    "    scaler = scaler.fit(x_data)\n",
    "    x_data = scaler.transform(x_data)\n",
    "\n",
    "    est = nn_autoencoder(seed, x_data.shape[1], low_dim)\n",
    "    est.fit(x_data, x_data, batch_size=16, epochs=200, verbose=0)\n",
    "\n",
    "    return est"
   ]
  },
  {
   "cell_type": "code",
   "execution_count": 38,
   "metadata": {},
   "outputs": [],
   "source": [
    "def get_data_split(dataset, seed):\n",
    "\n",
    "    split_proportion = [0.6, 0.3, 0.1]\n",
    "    \n",
    "    data_x, data_y = load_data(dataset)\n",
    "    data_x, data_y = shuffle_data(data_x, data_y, seed)\n",
    "\n",
    "    # data used for the unsupervised/self-supervised DR algorithms\n",
    "    base_model_data_x = data_x[:int(data_x.shape[0]*split_proportion[0])]\n",
    "\n",
    "    # data used to train the gp_surrogate model\n",
    "    gp_surrogate_data_x = data_x[int(data_x.shape[0]*split_proportion[0]):int(data_x.shape[0]*(split_proportion[1]+split_proportion[0]))]\n",
    "\n",
    "    # data used for testing\n",
    "    test_data_x = data_x[int((1-split_proportion[2])*data_x.shape[0]):]\n",
    "    test_data_y = data_y[int((1-split_proportion[2])*data_y.shape[0]):]\n",
    "\n",
    "    return base_model_data_x, gp_surrogate_data_x, test_data_x, test_data_y"
   ]
  },
  {
   "cell_type": "code",
   "execution_count": 30,
   "metadata": {},
   "outputs": [],
   "source": [
    "def get_hidden_layers(model, data_x):\n",
    "\n",
    "    def keras_function_layer(model_layer, data):\n",
    "        hidden_func = keras.backend.function(model.layers[0].input, model_layer.output)\n",
    "        result = hidden_func([data.astype('float32')])\n",
    "\n",
    "        return result\n",
    "\n",
    "    hidden_layers_list = []\n",
    "    for index in range(len(model.layers)):\n",
    "        if isinstance(model.layers[index], keras.layers.convolutional.Conv2D) or isinstance(model.layers[index],\n",
    "                                                                                            keras.layers.Dense):\n",
    "            hidden_layer = keras_function_layer(model.layers[index], data_x)\n",
    "            hidden_layers_list.append(hidden_layer)\n",
    "\n",
    "    return hidden_layers_list"
   ]
  },
  {
   "cell_type": "code",
   "execution_count": 31,
   "metadata": {},
   "outputs": [],
   "source": [
    "def nn_autoencoder(seed, input_size, latent_size):\n",
    "    initializer = keras.initializers.glorot_normal(seed=seed)\n",
    "\n",
    "    model = keras.models.Sequential([\n",
    "\n",
    "        keras.layers.Dense(input_size, activation=\"elu\", use_bias=True,\n",
    "                           trainable=True, kernel_initializer=initializer, input_shape=(input_size,)),\n",
    "\n",
    "        keras.layers.Dense(int((input_size + latent_size) / 2), activation=\"elu\", use_bias=True,\n",
    "                           trainable=True, kernel_initializer=initializer),\n",
    "\n",
    "        keras.layers.Dense(int((input_size + latent_size) / 4), activation=\"elu\", use_bias=True,\n",
    "                           trainable=True, kernel_initializer=initializer),\n",
    "\n",
    "        # latent_layer\n",
    "        keras.layers.Dense(latent_size, activation=keras.activations.linear, use_bias=False,\n",
    "                           trainable=True, kernel_initializer=initializer),\n",
    "\n",
    "        keras.layers.Dense(int((input_size + latent_size) / 4), activation=\"elu\", use_bias=True,\n",
    "                           trainable=True, kernel_initializer=initializer),\n",
    "\n",
    "        keras.layers.Dense(int((input_size + latent_size) / 2), activation=\"elu\", use_bias=True,\n",
    "                           trainable=True, kernel_initializer=initializer),\n",
    "\n",
    "        keras.layers.Dense(input_size, activation=keras.activations.linear, use_bias=False,\n",
    "                           trainable=True, kernel_initializer=initializer)\n",
    "    ])\n",
    "\n",
    "    adam = keras.optimizers.Adam(lr=0.001, beta_1=0.9, beta_2=0.999, amsgrad=False)\n",
    "    model.compile(optimizer=adam, loss='mse', metrics=['mse'])\n",
    "\n",
    "    return model\n"
   ]
  },
  {
   "cell_type": "code",
   "execution_count": null,
   "metadata": {},
   "outputs": [],
   "source": []
  },
  {
   "cell_type": "code",
   "execution_count": 32,
   "metadata": {},
   "outputs": [],
   "source": [
    "dataset = \"segmentation\"\n",
    "method = \"nn\""
   ]
  },
  {
   "cell_type": "code",
   "execution_count": 34,
   "metadata": {},
   "outputs": [
    {
     "name": "stdout",
     "output_type": "stream",
     "text": [
      "2 not_shared_phi\n",
      "2 shared_phi\n",
      "2 vanilla\n",
      "3 not_shared_phi\n",
      "3 shared_phi\n",
      "3 vanilla\n",
      "4 not_shared_phi\n",
      "4 shared_phi\n",
      "4 vanilla\n"
     ]
    }
   ],
   "source": [
    "list_data = []\n",
    "list_method_name = []\n",
    "\n",
    "nn_list_accuracy = []\n",
    "nn_list_name = []\n",
    "\n",
    "for num_latent_dimensions in [2, 3, 4]:\n",
    "    for gp_method in [\"not_shared_phi\", \"shared_phi\", \"vanilla\"]:\n",
    "    \n",
    "        path = \"gecco/\"+dataset+\"/\"+method+\"/\"\n",
    "        file_name = path + \"results_\" + dataset + \"_\" + method + \"_\" + str(num_latent_dimensions)\n",
    "        file_name = file_name + \"_\" + gp_method\n",
    "\n",
    "        results = pickle.load(open(file_name+\".p\", \"rb\"))\n",
    "        print(num_latent_dimensions, gp_method)\n",
    "        \n",
    "        list_info = [[] for _ in range(len(results[0].keys()))]\n",
    "\n",
    "        for index in range(len(results)):\n",
    "\n",
    "            count = 0\n",
    "            for k in results[index].keys():\n",
    "                list_info[count].append(results[index][k])\n",
    "                count += 1\n",
    "\n",
    "        if gp_method == \"not_shared_phi\":\n",
    "            method_name = \"GP not shared\"\n",
    "            \n",
    "        elif gp_method == \"shared_phi\":\n",
    "            method_name = \"GP shared\"\n",
    "            \n",
    "        elif gp_method == \"vanilla\":\n",
    "            method_name = \"GP vanilla\"\n",
    "            \n",
    "        list_data.append(list_info[4])\n",
    "        list_method_name.append(method_name)\n"
   ]
  },
  {
   "cell_type": "code",
   "execution_count": 35,
   "metadata": {},
   "outputs": [
    {
     "name": "stdout",
     "output_type": "stream",
     "text": [
      "COMPUTING FOR NUMBER OF LATENT 2\n",
      "0\n",
      "1\n",
      "2\n",
      "3\n",
      "4\n",
      "5\n",
      "6\n",
      "7\n",
      "8\n",
      "9\n",
      "0\n",
      "1\n",
      "2\n",
      "3\n",
      "4\n",
      "5\n",
      "6\n",
      "7\n",
      "8\n",
      "9\n",
      "0\n",
      "1\n",
      "2\n",
      "3\n",
      "4\n",
      "5\n",
      "6\n",
      "7\n",
      "8\n",
      "9\n",
      "COMPUTING FOR NUMBER OF LATENT 3\n",
      "0\n",
      "1\n",
      "2\n",
      "3\n",
      "4\n",
      "5\n",
      "6\n",
      "7\n",
      "8\n",
      "9\n",
      "0\n",
      "1\n",
      "2\n",
      "3\n",
      "4\n",
      "5\n",
      "6\n",
      "7\n",
      "8\n",
      "9\n",
      "0\n",
      "1\n",
      "2\n",
      "3\n",
      "4\n",
      "5\n",
      "6\n",
      "7\n",
      "8\n",
      "9\n",
      "COMPUTING FOR NUMBER OF LATENT 4\n",
      "0\n",
      "1\n",
      "2\n",
      "3\n",
      "4\n",
      "5\n",
      "6\n",
      "7\n",
      "8\n",
      "9\n",
      "0\n",
      "1\n",
      "2\n",
      "3\n",
      "4\n",
      "5\n",
      "6\n",
      "7\n",
      "8\n",
      "9\n",
      "0\n",
      "1\n",
      "2\n",
      "3\n",
      "4\n",
      "5\n",
      "6\n",
      "7\n",
      "8\n",
      "9\n"
     ]
    }
   ],
   "source": [
    "meta_error_list = []\n",
    "\n",
    "count = 1\n",
    "for num_latent_dimensions in [2, 3, 4]:\n",
    "    print(\"COMPUTING FOR NUMBER OF LATENT \" + str(num_latent_dimensions))\n",
    "    for gp_method in [\"not_shared_phi\", \"shared_phi\", \"vanilla\"]:\n",
    "        \n",
    "        list_individuals = list_data[count-1]\n",
    "        error_list = []\n",
    "        \n",
    "        for seed in range(10):\n",
    "            print(seed)\n",
    "\n",
    "            base_model_data_x, gp_surrogate_data_x, _ = get_data_split(dataset, seed)\n",
    "            \n",
    "            scaler = StandardScaler()\n",
    "            scaler = scaler.fit(gp_surrogate_data_x)\n",
    "            gp_surrogate_data_x = scaler.transform(gp_surrogate_data_x)\n",
    "            \n",
    "            model = train_base_model(base_model_data_x, seed, num_latent_dimensions)\n",
    "            low_dim_x = get_hidden_layers(model, gp_surrogate_data_x)[3]\n",
    "            \n",
    "            if count % 3 == 0:\n",
    "                gp_output = get_output_single_tree(list_individuals[seed], gp_surrogate_data_x)\n",
    "            else:\n",
    "                gp_output = get_output_multi_tree(list_individuals[seed], gp_surrogate_data_x)\n",
    "            \n",
    "            squared_error = np.mean(np.power((gp_output[0] - low_dim_x), 2))\n",
    "            error_list.append(squared_error)\n",
    "            \n",
    "            keras.backend.clear_session()\n",
    "    \n",
    "        meta_error_list.append(error_list)\n",
    "        count += 1"
   ]
  },
  {
   "cell_type": "code",
   "execution_count": 36,
   "metadata": {},
   "outputs": [],
   "source": [
    "df1 = pd.DataFrame(meta_error_list[:3], index=list_method_name[:3]).T.assign(k=2)\n",
    "df2 = pd.DataFrame(meta_error_list[3:6], index=list_method_name[3:6]).T.assign(k=3)\n",
    "df3 = pd.DataFrame(meta_error_list[6:9], index=list_method_name[6:9]).T.assign(k=4)"
   ]
  },
  {
   "cell_type": "code",
   "execution_count": 37,
   "metadata": {},
   "outputs": [],
   "source": [
    "cdf = pd.concat([df1, df2, df3])                              \n",
    "mdf = pd.melt(cdf, id_vars=['k'], var_name=['Method'])"
   ]
  },
  {
   "cell_type": "code",
   "execution_count": 39,
   "metadata": {},
   "outputs": [
    {
     "name": "stderr",
     "output_type": "stream",
     "text": [
      "/home/thomas/.conda/envs/tf_env/lib/python3.7/site-packages/ipykernel_launcher.py:5: UserWarning: FixedFormatter should only be used together with FixedLocator\n",
      "  \"\"\"\n"
     ]
    },
    {
     "data": {
      "image/png": "[encoded data removed]",
      "text/plain": [
       "<Figure size 1440x720 with 1 Axes>"
      ]
     },
     "metadata": {},
     "output_type": "display_data"
    }
   ],
   "source": [
    "sns.set_theme()\n",
    "plt.figure(figsize=(20,10))\n",
    "ax = sns.boxplot(x=\"k\", y=\"value\", hue=\"Method\", data=mdf)  \n",
    "ax.set(ylim=(0, 200))\n",
    "ax.set_yticklabels(np.round(ax.get_yticks(), 2), fontsize=16)\n",
    "ax.set_xticklabels([2, 3, 4], fontsize=16)\n",
    "ax.set_ylabel(\"Fidelity\", fontsize=20)\n",
    "ax.set_xlabel(\"Number of latent dimensions\", fontsize=20)\n",
    "plt.setp(ax.get_legend().get_texts(), fontsize='16') # for legend text\n",
    "plt.setp(ax.get_legend().get_title(), fontsize='20') # for legend title\n",
    "plt.savefig(\"fidelity\" + dataset + \".pdf\", dpi=600, bbox_inches = 'tight')\n",
    "plt.show()"
   ]
  },
  {
   "cell_type": "markdown",
   "metadata": {},
   "source": [
    "# test what dataset makes sense"
   ]
  },
  {
   "cell_type": "code",
   "execution_count": 33,
   "metadata": {},
   "outputs": [],
   "source": [
    "dataset = \"observatory\""
   ]
  },
  {
   "cell_type": "code",
   "execution_count": 46,
   "metadata": {},
   "outputs": [
    {
     "name": "stdout",
     "output_type": "stream",
     "text": [
      "0\n",
      "1\n",
      "2\n",
      "3\n",
      "4\n",
      "5\n",
      "6\n",
      "7\n",
      "8\n",
      "9\n",
      "0\n",
      "1\n",
      "2\n",
      "3\n",
      "4\n",
      "5\n",
      "6\n",
      "7\n",
      "8\n",
      "9\n",
      "0\n",
      "1\n",
      "2\n",
      "3\n",
      "4\n",
      "5\n",
      "6\n",
      "7\n",
      "8\n",
      "9\n"
     ]
    }
   ],
   "source": [
    "list_method_names = []\n",
    "list_data = []\n",
    "\n",
    "for num_latent_dimensions in [2, 3, 4]: \n",
    "    accuracy_list_nn = []\n",
    "    accuracy_list_pca = []\n",
    "    accuracy_list_original = []\n",
    "    \n",
    "    for run in range(10):\n",
    "        print(run)\n",
    "\n",
    "        base_model_data_x, gp_surrogate_data_x, test_data_x, test_data_y = get_data_split(dataset, run)\n",
    "\n",
    "        scaler = StandardScaler()\n",
    "        scaler = scaler.fit(base_model_data_x)\n",
    "        test_data_x = scaler.transform(test_data_x)\n",
    "\n",
    "        model = train_base_model(base_model_data_x, run, num_latent_dimensions)\n",
    "        low_dim_x_nn = get_hidden_layers(model, test_data_x)[3]\n",
    "        \n",
    "        est = PCA(n_components=num_latent_dimensions)\n",
    "        est.fit(scaler.transform(base_model_data_x))\n",
    "        low_dim_x_pca = est.transform(test_data_x)\n",
    "        \n",
    "        # nn\n",
    "        avg_acc_nn, _ = k_fold_valifation_accuracy_rf(low_dim_x_nn, test_data_y, run)\n",
    "        accuracy_list_nn.append(avg_acc_nn)\n",
    "        \n",
    "        # pca\n",
    "        avg_acc_pca, _ = k_fold_valifation_accuracy_rf(low_dim_x_pca, test_data_y, run)\n",
    "        accuracy_list_pca.append(avg_acc_pca)\n",
    "        \n",
    "        # original dataset\n",
    "        avg_acc_original, _ = k_fold_valifation_accuracy_rf(test_data_x, test_data_y, run)\n",
    "        accuracy_list_original.append(avg_acc_original)\n",
    "    \n",
    "    list_data.append(accuracy_list_nn)\n",
    "    list_data.append(accuracy_list_pca)\n",
    "    list_data.append(accuracy_list_original)\n",
    "    list_method_names.append(\"AE teacher\")\n",
    "    list_method_names.append(\"PCA baseline\")\n",
    "    list_method_names.append(\"Original features\")\n",
    "    "
   ]
  },
  {
   "cell_type": "code",
   "execution_count": 47,
   "metadata": {},
   "outputs": [
    {
     "name": "stdout",
     "output_type": "stream",
     "text": [
      "['AE teacher', 'PCA baseline', 'Original features', 'AE teacher', 'PCA baseline', 'Original features', 'AE teacher', 'PCA baseline', 'Original features']\n"
     ]
    }
   ],
   "source": [
    "print(list_method_names)"
   ]
  },
  {
   "cell_type": "code",
   "execution_count": 48,
   "metadata": {},
   "outputs": [],
   "source": [
    "df1 = pd.DataFrame(list_data[:3], index=list_method_names[:3]).T.assign(k=2)\n",
    "df2 = pd.DataFrame(list_data[3:6], index=list_method_names[3:6]).T.assign(k=3)\n",
    "df3 = pd.DataFrame(list_data[6:9], index=list_method_names[6:9]).T.assign(k=4)"
   ]
  },
  {
   "cell_type": "code",
   "execution_count": 49,
   "metadata": {},
   "outputs": [
    {
     "name": "stderr",
     "output_type": "stream",
     "text": [
      "/home/thomas/.conda/envs/tf_env/lib/python3.7/site-packages/ipykernel_launcher.py:7: UserWarning: FixedFormatter should only be used together with FixedLocator\n",
      "  import sys\n"
     ]
    },
    {
     "data": {
      "image/png": "[encoded data removed]",
      "text/plain": [
       "<Figure size 1440x720 with 1 Axes>"
      ]
     },
     "metadata": {},
     "output_type": "display_data"
    }
   ],
   "source": [
    "cdf = pd.concat([df1, df2, df3])                              \n",
    "mdf = pd.melt(cdf, id_vars=['k'], var_name=['Method'])\n",
    "\n",
    "sns.set_theme()\n",
    "plt.figure(figsize=(20,10))\n",
    "ax = sns.boxplot(x=\"k\", y=\"value\", hue=\"Method\", data=mdf)  \n",
    "ax.set_yticklabels(np.round(ax.get_yticks(), 2), fontsize=16)\n",
    "ax.set_xticklabels([2, 3, 4], fontsize=16)\n",
    "ax.set_ylabel(\"Accuracy\", fontsize=20)\n",
    "ax.set_xlabel(\"Number of latent dimensions\", fontsize=20)\n",
    "plt.setp(ax.get_legend().get_texts(), fontsize='16') # for legend text\n",
    "plt.setp(ax.get_legend().get_title(), fontsize='20') # for legend title\n",
    "plt.savefig(\"boxplot_\" + dataset + \".pdf\", dpi=600, bbox_inches = 'tight')\n",
    "plt.show()\n"
   ]
  },
  {
   "cell_type": "code",
   "execution_count": null,
   "metadata": {},
   "outputs": [],
   "source": []
  },
  {
   "cell_type": "code",
   "execution_count": null,
   "metadata": {},
   "outputs": [],
   "source": []
  },
  {
   "cell_type": "code",
   "execution_count": null,
   "metadata": {},
   "outputs": [],
   "source": []
  },
  {
   "cell_type": "code",
   "execution_count": null,
   "metadata": {},
   "outputs": [],
   "source": []
  },
  {
   "cell_type": "code",
   "execution_count": null,
   "metadata": {},
   "outputs": [],
   "source": []
  }
 ],
 "metadata": {
  "kernelspec": {
   "display_name": "Python [conda env:.conda-tf_env] *",
   "language": "python",
   "name": "conda-env-.conda-tf_env-py"
  },
  "language_info": {
   "codemirror_mode": {
    "name": "ipython",
    "version": 3
   },
   "file_extension": ".py",
   "mimetype": "text/x-python",
   "name": "python",
   "nbconvert_exporter": "python",
   "pygments_lexer": "ipython3",
   "version": "3.7.0"
  }
 },
 "nbformat": 4,
 "nbformat_minor": 4
}
